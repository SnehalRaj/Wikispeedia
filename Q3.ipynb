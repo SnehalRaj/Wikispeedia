{
 "cells": [
  {
   "cell_type": "code",
   "execution_count": 1,
   "metadata": {},
   "outputs": [],
   "source": [
    "import pandas as pd"
   ]
  },
  {
   "cell_type": "code",
   "execution_count": 2,
   "metadata": {},
   "outputs": [],
   "source": [
    "article_id = pd.read_csv('article-ids.csv')\n",
    "category_id = pd.read_csv('category-ids.csv')"
   ]
  },
  {
   "cell_type": "code",
   "execution_count": 3,
   "metadata": {},
   "outputs": [
    {
     "data": {
      "text/html": [
       "<div>\n",
       "<style scoped>\n",
       "    .dataframe tbody tr th:only-of-type {\n",
       "        vertical-align: middle;\n",
       "    }\n",
       "\n",
       "    .dataframe tbody tr th {\n",
       "        vertical-align: top;\n",
       "    }\n",
       "\n",
       "    .dataframe thead th {\n",
       "        text-align: right;\n",
       "    }\n",
       "</style>\n",
       "<table border=\"1\" class=\"dataframe\">\n",
       "  <thead>\n",
       "    <tr style=\"text-align: right;\">\n",
       "      <th></th>\n",
       "      <th>id</th>\n",
       "      <th>category</th>\n",
       "    </tr>\n",
       "  </thead>\n",
       "  <tbody>\n",
       "    <tr>\n",
       "      <th>0</th>\n",
       "      <td>C0001</td>\n",
       "      <td>subject</td>\n",
       "    </tr>\n",
       "    <tr>\n",
       "      <th>1</th>\n",
       "      <td>C0002</td>\n",
       "      <td>subject.Art</td>\n",
       "    </tr>\n",
       "    <tr>\n",
       "      <th>2</th>\n",
       "      <td>C0003</td>\n",
       "      <td>subject.Business_Studies</td>\n",
       "    </tr>\n",
       "    <tr>\n",
       "      <th>3</th>\n",
       "      <td>C0004</td>\n",
       "      <td>subject.Citizenship</td>\n",
       "    </tr>\n",
       "    <tr>\n",
       "      <th>4</th>\n",
       "      <td>C0005</td>\n",
       "      <td>subject.Countries</td>\n",
       "    </tr>\n",
       "    <tr>\n",
       "      <th>...</th>\n",
       "      <td>...</td>\n",
       "      <td>...</td>\n",
       "    </tr>\n",
       "    <tr>\n",
       "      <th>141</th>\n",
       "      <td>C0142</td>\n",
       "      <td>subject.Science.Physics.Electricity_and_Electr...</td>\n",
       "    </tr>\n",
       "    <tr>\n",
       "      <th>142</th>\n",
       "      <td>C0143</td>\n",
       "      <td>subject.Science.Physics.General_Physics</td>\n",
       "    </tr>\n",
       "    <tr>\n",
       "      <th>143</th>\n",
       "      <td>C0144</td>\n",
       "      <td>subject.Science.Physics.Space_Astronomy</td>\n",
       "    </tr>\n",
       "    <tr>\n",
       "      <th>144</th>\n",
       "      <td>C0145</td>\n",
       "      <td>subject.Science.Physics.Space_transport</td>\n",
       "    </tr>\n",
       "    <tr>\n",
       "      <th>145</th>\n",
       "      <td>C0146</td>\n",
       "      <td>subject.Science.Physics.The_Planets</td>\n",
       "    </tr>\n",
       "  </tbody>\n",
       "</table>\n",
       "<p>146 rows × 2 columns</p>\n",
       "</div>"
      ],
      "text/plain": [
       "        id                                           category\n",
       "0    C0001                                            subject\n",
       "1    C0002                                        subject.Art\n",
       "2    C0003                           subject.Business_Studies\n",
       "3    C0004                                subject.Citizenship\n",
       "4    C0005                                  subject.Countries\n",
       "..     ...                                                ...\n",
       "141  C0142  subject.Science.Physics.Electricity_and_Electr...\n",
       "142  C0143            subject.Science.Physics.General_Physics\n",
       "143  C0144            subject.Science.Physics.Space_Astronomy\n",
       "144  C0145            subject.Science.Physics.Space_transport\n",
       "145  C0146                subject.Science.Physics.The_Planets\n",
       "\n",
       "[146 rows x 2 columns]"
      ]
     },
     "execution_count": 3,
     "metadata": {},
     "output_type": "execute_result"
    }
   ],
   "source": [
    "category_id"
   ]
  },
  {
   "cell_type": "code",
   "execution_count": 4,
   "metadata": {},
   "outputs": [
    {
     "data": {
      "text/html": [
       "<div>\n",
       "<style scoped>\n",
       "    .dataframe tbody tr th:only-of-type {\n",
       "        vertical-align: middle;\n",
       "    }\n",
       "\n",
       "    .dataframe tbody tr th {\n",
       "        vertical-align: top;\n",
       "    }\n",
       "\n",
       "    .dataframe thead th {\n",
       "        text-align: right;\n",
       "    }\n",
       "</style>\n",
       "<table border=\"1\" class=\"dataframe\">\n",
       "  <thead>\n",
       "    <tr style=\"text-align: right;\">\n",
       "      <th></th>\n",
       "      <th>article</th>\n",
       "      <th>category</th>\n",
       "    </tr>\n",
       "  </thead>\n",
       "  <tbody>\n",
       "    <tr>\n",
       "      <th>0</th>\n",
       "      <td>%C3%81ed%C3%A1n_mac_Gabr%C3%A1in</td>\n",
       "      <td>subject.History.British_History.British_Histor...</td>\n",
       "    </tr>\n",
       "    <tr>\n",
       "      <th>1</th>\n",
       "      <td>%C3%81ed%C3%A1n_mac_Gabr%C3%A1in</td>\n",
       "      <td>subject.People.Historical_figures</td>\n",
       "    </tr>\n",
       "    <tr>\n",
       "      <th>2</th>\n",
       "      <td>%C3%85land</td>\n",
       "      <td>subject.Countries</td>\n",
       "    </tr>\n",
       "    <tr>\n",
       "      <th>3</th>\n",
       "      <td>%C3%85land</td>\n",
       "      <td>subject.Geography.European_Geography.European_...</td>\n",
       "    </tr>\n",
       "    <tr>\n",
       "      <th>4</th>\n",
       "      <td>%C3%89douard_Manet</td>\n",
       "      <td>subject.People.Artists</td>\n",
       "    </tr>\n",
       "    <tr>\n",
       "      <th>...</th>\n",
       "      <td>...</td>\n",
       "      <td>...</td>\n",
       "    </tr>\n",
       "    <tr>\n",
       "      <th>5199</th>\n",
       "      <td>Zirconium</td>\n",
       "      <td>subject.Science.Chemistry.Chemical_elements</td>\n",
       "    </tr>\n",
       "    <tr>\n",
       "      <th>5200</th>\n",
       "      <td>Zoroaster</td>\n",
       "      <td>subject.People.Religious_figures_and_leaders</td>\n",
       "    </tr>\n",
       "    <tr>\n",
       "      <th>5201</th>\n",
       "      <td>Zuid-Gelders</td>\n",
       "      <td>subject.Geography.European_Geography</td>\n",
       "    </tr>\n",
       "    <tr>\n",
       "      <th>5202</th>\n",
       "      <td>Zuid-Gelders</td>\n",
       "      <td>subject.Language_and_literature.Languages</td>\n",
       "    </tr>\n",
       "    <tr>\n",
       "      <th>5203</th>\n",
       "      <td>Zulu</td>\n",
       "      <td>subject.Geography.African_Geography</td>\n",
       "    </tr>\n",
       "  </tbody>\n",
       "</table>\n",
       "<p>5204 rows × 2 columns</p>\n",
       "</div>"
      ],
      "text/plain": [
       "                               article  \\\n",
       "0     %C3%81ed%C3%A1n_mac_Gabr%C3%A1in   \n",
       "1     %C3%81ed%C3%A1n_mac_Gabr%C3%A1in   \n",
       "2                           %C3%85land   \n",
       "3                           %C3%85land   \n",
       "4                   %C3%89douard_Manet   \n",
       "...                                ...   \n",
       "5199                         Zirconium   \n",
       "5200                         Zoroaster   \n",
       "5201                      Zuid-Gelders   \n",
       "5202                      Zuid-Gelders   \n",
       "5203                              Zulu   \n",
       "\n",
       "                                               category  \n",
       "0     subject.History.British_History.British_Histor...  \n",
       "1                     subject.People.Historical_figures  \n",
       "2                                     subject.Countries  \n",
       "3     subject.Geography.European_Geography.European_...  \n",
       "4                                subject.People.Artists  \n",
       "...                                                 ...  \n",
       "5199        subject.Science.Chemistry.Chemical_elements  \n",
       "5200       subject.People.Religious_figures_and_leaders  \n",
       "5201               subject.Geography.European_Geography  \n",
       "5202          subject.Language_and_literature.Languages  \n",
       "5203                subject.Geography.African_Geography  \n",
       "\n",
       "[5204 rows x 2 columns]"
      ]
     },
     "execution_count": 4,
     "metadata": {},
     "output_type": "execute_result"
    }
   ],
   "source": [
    "path = \"wikispeedia_paths-and-graph/\"\n",
    "categories = pd.read_csv(path+'categories.tsv',sep='\\t',names=['article','category'])\n",
    "categories"
   ]
  },
  {
   "cell_type": "code",
   "execution_count": 5,
   "metadata": {},
   "outputs": [],
   "source": [
    "article = pd.merge(categories, article_id, on='article')"
   ]
  },
  {
   "cell_type": "code",
   "execution_count": 6,
   "metadata": {},
   "outputs": [],
   "source": [
    "category = pd.merge(article,category_id,on='category')"
   ]
  },
  {
   "cell_type": "code",
   "execution_count": 7,
   "metadata": {},
   "outputs": [],
   "source": [
    "final =category.sort_values('id_x')"
   ]
  },
  {
   "cell_type": "code",
   "execution_count": 8,
   "metadata": {},
   "outputs": [],
   "source": [
    "final = (final[['id_x','id_y']]).reset_index(drop=True)"
   ]
  },
  {
   "cell_type": "code",
   "execution_count": 9,
   "metadata": {},
   "outputs": [
    {
     "data": {
      "text/html": [
       "<div>\n",
       "<style scoped>\n",
       "    .dataframe tbody tr th:only-of-type {\n",
       "        vertical-align: middle;\n",
       "    }\n",
       "\n",
       "    .dataframe tbody tr th {\n",
       "        vertical-align: top;\n",
       "    }\n",
       "\n",
       "    .dataframe thead th {\n",
       "        text-align: right;\n",
       "    }\n",
       "</style>\n",
       "<table border=\"1\" class=\"dataframe\">\n",
       "  <thead>\n",
       "    <tr style=\"text-align: right;\">\n",
       "      <th></th>\n",
       "      <th>id_x</th>\n",
       "      <th>id_y</th>\n",
       "    </tr>\n",
       "  </thead>\n",
       "  <tbody>\n",
       "    <tr>\n",
       "      <th>0</th>\n",
       "      <td>A0001</td>\n",
       "      <td>C0126</td>\n",
       "    </tr>\n",
       "    <tr>\n",
       "      <th>1</th>\n",
       "      <td>A0001</td>\n",
       "      <td>C0098</td>\n",
       "    </tr>\n",
       "    <tr>\n",
       "      <th>2</th>\n",
       "      <td>A0002</td>\n",
       "      <td>C0122</td>\n",
       "    </tr>\n",
       "    <tr>\n",
       "      <th>3</th>\n",
       "      <td>A0002</td>\n",
       "      <td>C0005</td>\n",
       "    </tr>\n",
       "    <tr>\n",
       "      <th>4</th>\n",
       "      <td>A0003</td>\n",
       "      <td>C0092</td>\n",
       "    </tr>\n",
       "    <tr>\n",
       "      <th>...</th>\n",
       "      <td>...</td>\n",
       "      <td>...</td>\n",
       "    </tr>\n",
       "    <tr>\n",
       "      <th>5199</th>\n",
       "      <td>A4601</td>\n",
       "      <td>C0139</td>\n",
       "    </tr>\n",
       "    <tr>\n",
       "      <th>5200</th>\n",
       "      <td>A4602</td>\n",
       "      <td>C0107</td>\n",
       "    </tr>\n",
       "    <tr>\n",
       "      <th>5201</th>\n",
       "      <td>A4603</td>\n",
       "      <td>C0053</td>\n",
       "    </tr>\n",
       "    <tr>\n",
       "      <th>5202</th>\n",
       "      <td>A4603</td>\n",
       "      <td>C0081</td>\n",
       "    </tr>\n",
       "    <tr>\n",
       "      <th>5203</th>\n",
       "      <td>A4604</td>\n",
       "      <td>C0049</td>\n",
       "    </tr>\n",
       "  </tbody>\n",
       "</table>\n",
       "<p>5204 rows × 2 columns</p>\n",
       "</div>"
      ],
      "text/plain": [
       "       id_x   id_y\n",
       "0     A0001  C0126\n",
       "1     A0001  C0098\n",
       "2     A0002  C0122\n",
       "3     A0002  C0005\n",
       "4     A0003  C0092\n",
       "...     ...    ...\n",
       "5199  A4601  C0139\n",
       "5200  A4602  C0107\n",
       "5201  A4603  C0053\n",
       "5202  A4603  C0081\n",
       "5203  A4604  C0049\n",
       "\n",
       "[5204 rows x 2 columns]"
      ]
     },
     "execution_count": 9,
     "metadata": {},
     "output_type": "execute_result"
    }
   ],
   "source": [
    "final"
   ]
  },
  {
   "cell_type": "code",
   "execution_count": 10,
   "metadata": {},
   "outputs": [],
   "source": [
    "final_dict = dict(zip(final.id_x, final.id_y))"
   ]
  },
  {
   "cell_type": "code",
   "execution_count": 11,
   "metadata": {},
   "outputs": [
    {
     "data": {
      "text/plain": [
       "'C0031'"
      ]
     },
     "execution_count": 11,
     "metadata": {},
     "output_type": "execute_result"
    }
   ],
   "source": [
    "final_dict['A1212']"
   ]
  },
  {
   "cell_type": "code",
   "execution_count": 12,
   "metadata": {},
   "outputs": [
    {
     "data": {
      "text/plain": [
       "5204"
      ]
     },
     "execution_count": 12,
     "metadata": {},
     "output_type": "execute_result"
    }
   ],
   "source": [
    "len(final)"
   ]
  },
  {
   "cell_type": "code",
   "execution_count": 13,
   "metadata": {},
   "outputs": [
    {
     "data": {
      "text/plain": [
       "'A0001'"
      ]
     },
     "execution_count": 13,
     "metadata": {},
     "output_type": "execute_result"
    }
   ],
   "source": [
    "(final.id_x)[0]"
   ]
  },
  {
   "cell_type": "code",
   "execution_count": 14,
   "metadata": {},
   "outputs": [
    {
     "name": "stdout",
     "output_type": "stream",
     "text": [
      "A1212\n",
      "A1213\n",
      "A1214\n",
      "A1215\n",
      "A1216\n",
      "A1233\n",
      "A1234\n",
      "A1235\n",
      "A1236\n",
      "A1237\n",
      "A1238\n",
      "A1239\n",
      "A1240\n",
      "A1241\n",
      "A1242\n",
      "A1243\n",
      "A1602\n",
      "A1603\n",
      "A1604\n",
      "A1605\n",
      "A1606\n",
      "A1607\n",
      "A1608\n",
      "A1609\n",
      "A1610\n",
      "A1611\n",
      "A1612\n",
      "A1613\n",
      "A1614\n",
      "A1615\n",
      "A1616\n",
      "A1617\n",
      "A1618\n",
      "A3255\n",
      "A3256\n",
      "A3851\n",
      "A3852\n",
      "A3853\n",
      "A4547\n",
      "A4548\n",
      "A4549\n",
      "A4550\n",
      "A4551\n",
      "A4552\n",
      "A4553\n",
      "A4554\n",
      "A4555\n",
      "A4556\n",
      "A4557\n",
      "A4558\n",
      "A4559\n",
      "A4560\n",
      "A4561\n",
      "A4562\n",
      "A4563\n",
      "A4564\n"
     ]
    }
   ],
   "source": [
    "new_dict = {}\n",
    "cnt=0\n",
    "cnt2=0\n",
    "for i in range(len(final)):\n",
    "    name =  'A'+str(cnt+1).zfill(4)\n",
    "    name2 = 'A'+str(cnt+2).zfill(4)\n",
    "    if ((final.id_x)[i]==name or (final.id_x)[i]==name2):\n",
    "        cat = (final.id_y)[i]\n",
    "        if (final.id_x)[i]==name:\n",
    "            new_dict[cnt2] = {'Article_ID':name , 'Category_ID':cat}\n",
    "        else:\n",
    "            new_dict[cnt2] = {'Article_ID':name2 , 'Category_ID':cat}\n",
    "            cnt+=1\n",
    "        cnt2+=1\n",
    "        \n",
    "    else:\n",
    "        print((final.id_x)[i])\n",
    "        cat = (final.id_y)[i]\n",
    "        new_dict[cnt2] = {'Article_ID':name2 , 'Category_ID':cat}\n",
    "        cnt+=1\n",
    "        cnt2+=1\n",
    "        \n",
    "        "
   ]
  },
  {
   "cell_type": "code",
   "execution_count": 15,
   "metadata": {},
   "outputs": [
    {
     "data": {
      "text/html": [
       "<div>\n",
       "<style scoped>\n",
       "    .dataframe tbody tr th:only-of-type {\n",
       "        vertical-align: middle;\n",
       "    }\n",
       "\n",
       "    .dataframe tbody tr th {\n",
       "        vertical-align: top;\n",
       "    }\n",
       "\n",
       "    .dataframe thead th {\n",
       "        text-align: right;\n",
       "    }\n",
       "</style>\n",
       "<table border=\"1\" class=\"dataframe\">\n",
       "  <thead>\n",
       "    <tr style=\"text-align: right;\">\n",
       "      <th></th>\n",
       "      <th>Article_ID</th>\n",
       "      <th>Category_ID</th>\n",
       "    </tr>\n",
       "  </thead>\n",
       "  <tbody>\n",
       "    <tr>\n",
       "      <th>0</th>\n",
       "      <td>A0001</td>\n",
       "      <td>C0126</td>\n",
       "    </tr>\n",
       "    <tr>\n",
       "      <th>1</th>\n",
       "      <td>A0001</td>\n",
       "      <td>C0098</td>\n",
       "    </tr>\n",
       "    <tr>\n",
       "      <th>2</th>\n",
       "      <td>A0002</td>\n",
       "      <td>C0122</td>\n",
       "    </tr>\n",
       "    <tr>\n",
       "      <th>3</th>\n",
       "      <td>A0002</td>\n",
       "      <td>C0005</td>\n",
       "    </tr>\n",
       "    <tr>\n",
       "      <th>4</th>\n",
       "      <td>A0003</td>\n",
       "      <td>C0092</td>\n",
       "    </tr>\n",
       "    <tr>\n",
       "      <th>...</th>\n",
       "      <td>...</td>\n",
       "      <td>...</td>\n",
       "    </tr>\n",
       "    <tr>\n",
       "      <th>5199</th>\n",
       "      <td>A4601</td>\n",
       "      <td>C0139</td>\n",
       "    </tr>\n",
       "    <tr>\n",
       "      <th>5200</th>\n",
       "      <td>A4602</td>\n",
       "      <td>C0107</td>\n",
       "    </tr>\n",
       "    <tr>\n",
       "      <th>5201</th>\n",
       "      <td>A4603</td>\n",
       "      <td>C0053</td>\n",
       "    </tr>\n",
       "    <tr>\n",
       "      <th>5202</th>\n",
       "      <td>A4603</td>\n",
       "      <td>C0081</td>\n",
       "    </tr>\n",
       "    <tr>\n",
       "      <th>5203</th>\n",
       "      <td>A4604</td>\n",
       "      <td>C0049</td>\n",
       "    </tr>\n",
       "  </tbody>\n",
       "</table>\n",
       "<p>5204 rows × 2 columns</p>\n",
       "</div>"
      ],
      "text/plain": [
       "     Article_ID Category_ID\n",
       "0         A0001       C0126\n",
       "1         A0001       C0098\n",
       "2         A0002       C0122\n",
       "3         A0002       C0005\n",
       "4         A0003       C0092\n",
       "...         ...         ...\n",
       "5199      A4601       C0139\n",
       "5200      A4602       C0107\n",
       "5201      A4603       C0053\n",
       "5202      A4603       C0081\n",
       "5203      A4604       C0049\n",
       "\n",
       "[5204 rows x 2 columns]"
      ]
     },
     "execution_count": 15,
     "metadata": {},
     "output_type": "execute_result"
    }
   ],
   "source": [
    "pd.DataFrame.from_dict(new_dict,\"index\")"
   ]
  },
  {
   "cell_type": "code",
   "execution_count": 16,
   "metadata": {},
   "outputs": [],
   "source": [
    "# check"
   ]
  },
  {
   "cell_type": "code",
   "execution_count": null,
   "metadata": {},
   "outputs": [],
   "source": []
  }
 ],
 "metadata": {
  "kernelspec": {
   "display_name": "Python 3",
   "language": "python",
   "name": "python3"
  },
  "language_info": {
   "codemirror_mode": {
    "name": "ipython",
    "version": 3
   },
   "file_extension": ".py",
   "mimetype": "text/x-python",
   "name": "python",
   "nbconvert_exporter": "python",
   "pygments_lexer": "ipython3",
   "version": "3.8.5"
  }
 },
 "nbformat": 4,
 "nbformat_minor": 2
}

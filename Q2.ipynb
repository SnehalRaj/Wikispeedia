{
 "cells": [
  {
   "cell_type": "code",
   "execution_count": 1,
   "metadata": {},
   "outputs": [],
   "source": [
    "import pandas as pd"
   ]
  },
  {
   "cell_type": "code",
   "execution_count": 2,
   "metadata": {},
   "outputs": [],
   "source": [
    "path = \"wikispeedia_paths-and-graph/\"\n",
    "df = pd.read_csv(path+'categories.tsv',sep='\\t',names=['article','category'])"
   ]
  },
  {
   "cell_type": "code",
   "execution_count": 3,
   "metadata": {},
   "outputs": [],
   "source": [
    "categories = df['category']"
   ]
  },
  {
   "cell_type": "code",
   "execution_count": 4,
   "metadata": {},
   "outputs": [],
   "source": [
    "main = [0]*len(categories)"
   ]
  },
  {
   "cell_type": "code",
   "execution_count": 5,
   "metadata": {},
   "outputs": [],
   "source": [
    "for i in range(len(categories)):\n",
    "    main[i] = categories[i].split('.')"
   ]
  },
  {
   "cell_type": "code",
   "execution_count": 6,
   "metadata": {},
   "outputs": [
    {
     "data": {
      "text/plain": [
       "5204"
      ]
     },
     "execution_count": 6,
     "metadata": {},
     "output_type": "execute_result"
    }
   ],
   "source": [
    "len(main)\n"
   ]
  },
  {
   "cell_type": "code",
   "execution_count": 7,
   "metadata": {},
   "outputs": [
    {
     "data": {
      "text/plain": [
       "5204"
      ]
     },
     "execution_count": 7,
     "metadata": {},
     "output_type": "execute_result"
    }
   ],
   "source": [
    "len(categories)"
   ]
  },
  {
   "cell_type": "code",
   "execution_count": 8,
   "metadata": {},
   "outputs": [],
   "source": [
    "max_len = 1\n",
    "for array in main:\n",
    "    if len(array)>max_len:\n",
    "        max_len = len(array)"
   ]
  },
  {
   "cell_type": "code",
   "execution_count": 9,
   "metadata": {},
   "outputs": [
    {
     "data": {
      "text/plain": [
       "4"
      ]
     },
     "execution_count": 9,
     "metadata": {},
     "output_type": "execute_result"
    }
   ],
   "source": [
    "max_len"
   ]
  },
  {
   "cell_type": "code",
   "execution_count": 10,
   "metadata": {},
   "outputs": [],
   "source": [
    "cat = [[],[],[],[]]\n",
    "maincat = [[],[],[],[]]"
   ]
  },
  {
   "cell_type": "code",
   "execution_count": 11,
   "metadata": {},
   "outputs": [],
   "source": [
    "for i in range(4):\n",
    "    for j in range(len(main)):\n",
    "        if (i<len(main[j])):\n",
    "            name = (main[j])[0]\n",
    "            for loop in range(1,i+1):\n",
    "                name = name+\".\"+(main[j])[loop]\n",
    "            if name not in maincat[i]:\n",
    "#                 cat[i].append((main[j])[i])\n",
    "#                 if (main[j])[i] == 'Artists':\n",
    "#                     print(name)\n",
    "                maincat[i].append(name)"
   ]
  },
  {
   "cell_type": "code",
   "execution_count": 12,
   "metadata": {},
   "outputs": [],
   "source": [
    "maincat[0] = 'subject'"
   ]
  },
  {
   "cell_type": "code",
   "execution_count": 13,
   "metadata": {},
   "outputs": [
    {
     "data": {
      "text/plain": [
       "['subject',\n",
       " ['subject.History',\n",
       "  'subject.People',\n",
       "  'subject.Countries',\n",
       "  'subject.Geography',\n",
       "  'subject.Business_Studies',\n",
       "  'subject.Science',\n",
       "  'subject.Everyday_life',\n",
       "  'subject.Design_and_Technology',\n",
       "  'subject.Music',\n",
       "  'subject.IT',\n",
       "  'subject.Language_and_literature',\n",
       "  'subject.Mathematics',\n",
       "  'subject.Religion',\n",
       "  'subject.Art',\n",
       "  'subject.Citizenship'],\n",
       " ['subject.History.British_History',\n",
       "  'subject.People.Historical_figures',\n",
       "  'subject.Geography.European_Geography',\n",
       "  'subject.People.Artists',\n",
       "  'subject.Business_Studies.Currency',\n",
       "  'subject.History.General_history',\n",
       "  'subject.History.Military_History_and_War',\n",
       "  'subject.Science.Physics',\n",
       "  'subject.Everyday_life.Sports_events',\n",
       "  'subject.Geography.Storms',\n",
       "  'subject.History.Recent_History',\n",
       "  'subject.Geography.Geology_and_geophysics',\n",
       "  'subject.Geography.Natural_Disasters',\n",
       "  'subject.Design_and_Technology.Railway_transport',\n",
       "  'subject.People.Sports_and_games_people',\n",
       "  'subject.Science.Biology',\n",
       "  'subject.Music.Performers_and_composers',\n",
       "  'subject.IT.Computing_hardware_and_infrastructure',\n",
       "  'subject.Business_Studies.Companies',\n",
       "  'subject.Language_and_literature.Novels',\n",
       "  'subject.Music.Musical_genres_styles_eras_and_events',\n",
       "  'subject.Everyday_life.Everyday_life',\n",
       "  'subject.Geography.Geography_of_the_Middle_East',\n",
       "  'subject.History.Ancient_History_Classical_History_and_Mythology',\n",
       "  'subject.Religion.Religious_movements_traditions_and_organizations',\n",
       "  'subject.Language_and_literature.Theatre',\n",
       "  'subject.People.Geographers_and_explorers',\n",
       "  'subject.Geography.Geography_of_Great_Britain',\n",
       "  'subject.Religion.Religious_texts',\n",
       "  'subject.Geography.African_Geography',\n",
       "  'subject.Geography.Geography_of_Asia',\n",
       "  'subject.People.Writers_and_critics',\n",
       "  'subject.People.USA_Presidents',\n",
       "  'subject.Everyday_life.Drink',\n",
       "  'subject.Art.Art',\n",
       "  'subject.Business_Studies.Business',\n",
       "  'subject.Science.Chemistry',\n",
       "  'subject.Citizenship.Environment',\n",
       "  'subject.Geography.General_Geography',\n",
       "  'subject.Business_Studies.Economics',\n",
       "  'subject.Geography.Geography_of_Oceania_Australasia',\n",
       "  'subject.People.Religious_figures_and_leaders',\n",
       "  'subject.People.Political_People',\n",
       "  'subject.Language_and_literature.Literature_types',\n",
       "  'subject.Citizenship.Politics_and_government',\n",
       "  'subject.Language_and_literature.Languages',\n",
       "  'subject.Religion.Philosophy',\n",
       "  'subject.IT.Websites_and_the_Internet',\n",
       "  'subject.Everyday_life.Food_and_agriculture',\n",
       "  'subject.Design_and_Technology.Air_and_Sea_transport',\n",
       "  'subject.IT.Computer_Programming',\n",
       "  'subject.People.Producers_directors_and_media_figures',\n",
       "  'subject.Citizenship.Media',\n",
       "  'subject.People.Mathematicians',\n",
       "  'subject.People.Astronomers_and_physicists',\n",
       "  'subject.People.Engineers_and_inventors',\n",
       "  'subject.History.Pre_1900_Military',\n",
       "  'subject.Religion.Religious_disputes',\n",
       "  'subject.People.Military_People',\n",
       "  'subject.People.Chemists',\n",
       "  'subject.People.Monarchs_of_Great_Britain',\n",
       "  'subject.Everyday_life.Sports_teams',\n",
       "  'subject.Music.Musical_Recordings_and_compositions',\n",
       "  'subject.Religion.Divinities',\n",
       "  'subject.Language_and_literature.Poetry_and_Opera',\n",
       "  'subject.Language_and_literature.Linguistics',\n",
       "  'subject.Design_and_Technology.Engineering',\n",
       "  'subject.Geography.North_American_Geography',\n",
       "  'subject.Geography.Central_and_South_American_Geography',\n",
       "  'subject.Geography.Mineralogy',\n",
       "  'subject.Everyday_life.Sports',\n",
       "  'subject.Geography.Peoples',\n",
       "  'subject.People.Actors_models_and_celebrities',\n",
       "  'subject.Design_and_Technology.Architecture',\n",
       "  'subject.Citizenship.Animal_and_Human_Rights',\n",
       "  'subject.Everyday_life.Computer_and_Video_games',\n",
       "  'subject.Everyday_life.Films',\n",
       "  'subject.History.World_War_II',\n",
       "  'subject.Geography.Antarctica',\n",
       "  'subject.People.Performers_and_composers',\n",
       "  'subject.Citizenship.Conflict_and_Peace',\n",
       "  'subject.Language_and_literature.General_Literature',\n",
       "  'subject.History.Archaeology',\n",
       "  'subject.IT.Software',\n",
       "  'subject.People.Philosophers',\n",
       "  'subject.Everyday_life.Recreation',\n",
       "  'subject.History.Historians_chroniclers_and_history_books',\n",
       "  'subject.People.Human_Scientists',\n",
       "  'subject.Religion.Myths',\n",
       "  'subject.Design_and_Technology.Road_transport',\n",
       "  'subject.Geography.Climate_and_the_Weather',\n",
       "  'subject.Everyday_life.Television',\n",
       "  'subject.Everyday_life.Games',\n",
       "  'subject.Citizenship.Community_organisations',\n",
       "  'subject.Music.Musical_Instruments',\n",
       "  'subject.Everyday_life.Cartoons',\n",
       "  'subject.People.Computing_People',\n",
       "  'subject.IT.Cryptography',\n",
       "  'subject.Citizenship.Law',\n",
       "  'subject.History.North_American_History',\n",
       "  'subject.Citizenship.Culture_and_Diversity',\n",
       "  'subject.Citizenship.Education',\n",
       "  'subject.Art.Artists'],\n",
       " ['subject.History.British_History.British_History_1500_and_before_including_Roman_Britain',\n",
       "  'subject.Geography.European_Geography.European_Countries',\n",
       "  'subject.Science.Physics.Space_Astronomy',\n",
       "  'subject.Science.Biology.Health_and_medicine',\n",
       "  'subject.Science.Physics.General_Physics',\n",
       "  'subject.Science.Biology.Mammals',\n",
       "  'subject.Science.Biology.Plants',\n",
       "  'subject.History.British_History.British_History_15001750',\n",
       "  'subject.Geography.Geography_of_Asia.Asian_Countries',\n",
       "  'subject.Geography.Geography_of_the_Middle_East.Middle_Eastern_Countries',\n",
       "  'subject.Science.Chemistry.Chemical_compounds',\n",
       "  'subject.Science.Chemistry.Chemical_elements',\n",
       "  'subject.Science.Biology.General_Biology',\n",
       "  'subject.Science.Biology.Birds',\n",
       "  'subject.Science.Biology.Insects_Reptiles_and_Fish',\n",
       "  'subject.Science.Biology.Dinosaurs',\n",
       "  'subject.Science.Chemistry.General_Chemistry',\n",
       "  'subject.Geography.African_Geography.African_Countries',\n",
       "  'subject.Geography.Central_and_South_American_Geography.Central_and_South_American_Countries',\n",
       "  'subject.Science.Physics.Space_transport',\n",
       "  'subject.History.British_History.British_History_17501900',\n",
       "  'subject.Science.Biology.Organisms',\n",
       "  'subject.History.British_History.British_History_Post_1900',\n",
       "  'subject.Science.Physics.Electricity_and_Electronics',\n",
       "  'subject.Science.Biology.Evolution_and_reproduction',\n",
       "  'subject.Science.Chemistry.Materials_science',\n",
       "  'subject.Science.Physics.The_Planets']]"
      ]
     },
     "execution_count": 13,
     "metadata": {},
     "output_type": "execute_result"
    }
   ],
   "source": [
    "maincat"
   ]
  },
  {
   "cell_type": "code",
   "execution_count": 14,
   "metadata": {},
   "outputs": [],
   "source": [
    "main_cat = ['subject']\n",
    "for i in range(1,4):\n",
    "    a = maincat[i]\n",
    "    a.sort()\n",
    "    main_cat = main_cat + a"
   ]
  },
  {
   "cell_type": "code",
   "execution_count": 15,
   "metadata": {},
   "outputs": [
    {
     "data": {
      "text/plain": [
       "['subject',\n",
       " 'subject.Art',\n",
       " 'subject.Business_Studies',\n",
       " 'subject.Citizenship',\n",
       " 'subject.Countries',\n",
       " 'subject.Design_and_Technology',\n",
       " 'subject.Everyday_life',\n",
       " 'subject.Geography',\n",
       " 'subject.History',\n",
       " 'subject.IT',\n",
       " 'subject.Language_and_literature',\n",
       " 'subject.Mathematics',\n",
       " 'subject.Music',\n",
       " 'subject.People',\n",
       " 'subject.Religion',\n",
       " 'subject.Science',\n",
       " 'subject.Art.Art',\n",
       " 'subject.Art.Artists',\n",
       " 'subject.Business_Studies.Business',\n",
       " 'subject.Business_Studies.Companies',\n",
       " 'subject.Business_Studies.Currency',\n",
       " 'subject.Business_Studies.Economics',\n",
       " 'subject.Citizenship.Animal_and_Human_Rights',\n",
       " 'subject.Citizenship.Community_organisations',\n",
       " 'subject.Citizenship.Conflict_and_Peace',\n",
       " 'subject.Citizenship.Culture_and_Diversity',\n",
       " 'subject.Citizenship.Education',\n",
       " 'subject.Citizenship.Environment',\n",
       " 'subject.Citizenship.Law',\n",
       " 'subject.Citizenship.Media',\n",
       " 'subject.Citizenship.Politics_and_government',\n",
       " 'subject.Design_and_Technology.Air_and_Sea_transport',\n",
       " 'subject.Design_and_Technology.Architecture',\n",
       " 'subject.Design_and_Technology.Engineering',\n",
       " 'subject.Design_and_Technology.Railway_transport',\n",
       " 'subject.Design_and_Technology.Road_transport',\n",
       " 'subject.Everyday_life.Cartoons',\n",
       " 'subject.Everyday_life.Computer_and_Video_games',\n",
       " 'subject.Everyday_life.Drink',\n",
       " 'subject.Everyday_life.Everyday_life',\n",
       " 'subject.Everyday_life.Films',\n",
       " 'subject.Everyday_life.Food_and_agriculture',\n",
       " 'subject.Everyday_life.Games',\n",
       " 'subject.Everyday_life.Recreation',\n",
       " 'subject.Everyday_life.Sports',\n",
       " 'subject.Everyday_life.Sports_events',\n",
       " 'subject.Everyday_life.Sports_teams',\n",
       " 'subject.Everyday_life.Television',\n",
       " 'subject.Geography.African_Geography',\n",
       " 'subject.Geography.Antarctica',\n",
       " 'subject.Geography.Central_and_South_American_Geography',\n",
       " 'subject.Geography.Climate_and_the_Weather',\n",
       " 'subject.Geography.European_Geography',\n",
       " 'subject.Geography.General_Geography',\n",
       " 'subject.Geography.Geography_of_Asia',\n",
       " 'subject.Geography.Geography_of_Great_Britain',\n",
       " 'subject.Geography.Geography_of_Oceania_Australasia',\n",
       " 'subject.Geography.Geography_of_the_Middle_East',\n",
       " 'subject.Geography.Geology_and_geophysics',\n",
       " 'subject.Geography.Mineralogy',\n",
       " 'subject.Geography.Natural_Disasters',\n",
       " 'subject.Geography.North_American_Geography',\n",
       " 'subject.Geography.Peoples',\n",
       " 'subject.Geography.Storms',\n",
       " 'subject.History.Ancient_History_Classical_History_and_Mythology',\n",
       " 'subject.History.Archaeology',\n",
       " 'subject.History.British_History',\n",
       " 'subject.History.General_history',\n",
       " 'subject.History.Historians_chroniclers_and_history_books',\n",
       " 'subject.History.Military_History_and_War',\n",
       " 'subject.History.North_American_History',\n",
       " 'subject.History.Pre_1900_Military',\n",
       " 'subject.History.Recent_History',\n",
       " 'subject.History.World_War_II',\n",
       " 'subject.IT.Computer_Programming',\n",
       " 'subject.IT.Computing_hardware_and_infrastructure',\n",
       " 'subject.IT.Cryptography',\n",
       " 'subject.IT.Software',\n",
       " 'subject.IT.Websites_and_the_Internet',\n",
       " 'subject.Language_and_literature.General_Literature',\n",
       " 'subject.Language_and_literature.Languages',\n",
       " 'subject.Language_and_literature.Linguistics',\n",
       " 'subject.Language_and_literature.Literature_types',\n",
       " 'subject.Language_and_literature.Novels',\n",
       " 'subject.Language_and_literature.Poetry_and_Opera',\n",
       " 'subject.Language_and_literature.Theatre',\n",
       " 'subject.Music.Musical_Instruments',\n",
       " 'subject.Music.Musical_Recordings_and_compositions',\n",
       " 'subject.Music.Musical_genres_styles_eras_and_events',\n",
       " 'subject.Music.Performers_and_composers',\n",
       " 'subject.People.Actors_models_and_celebrities',\n",
       " 'subject.People.Artists',\n",
       " 'subject.People.Astronomers_and_physicists',\n",
       " 'subject.People.Chemists',\n",
       " 'subject.People.Computing_People',\n",
       " 'subject.People.Engineers_and_inventors',\n",
       " 'subject.People.Geographers_and_explorers',\n",
       " 'subject.People.Historical_figures',\n",
       " 'subject.People.Human_Scientists',\n",
       " 'subject.People.Mathematicians',\n",
       " 'subject.People.Military_People',\n",
       " 'subject.People.Monarchs_of_Great_Britain',\n",
       " 'subject.People.Performers_and_composers',\n",
       " 'subject.People.Philosophers',\n",
       " 'subject.People.Political_People',\n",
       " 'subject.People.Producers_directors_and_media_figures',\n",
       " 'subject.People.Religious_figures_and_leaders',\n",
       " 'subject.People.Sports_and_games_people',\n",
       " 'subject.People.USA_Presidents',\n",
       " 'subject.People.Writers_and_critics',\n",
       " 'subject.Religion.Divinities',\n",
       " 'subject.Religion.Myths',\n",
       " 'subject.Religion.Philosophy',\n",
       " 'subject.Religion.Religious_disputes',\n",
       " 'subject.Religion.Religious_movements_traditions_and_organizations',\n",
       " 'subject.Religion.Religious_texts',\n",
       " 'subject.Science.Biology',\n",
       " 'subject.Science.Chemistry',\n",
       " 'subject.Science.Physics',\n",
       " 'subject.Geography.African_Geography.African_Countries',\n",
       " 'subject.Geography.Central_and_South_American_Geography.Central_and_South_American_Countries',\n",
       " 'subject.Geography.European_Geography.European_Countries',\n",
       " 'subject.Geography.Geography_of_Asia.Asian_Countries',\n",
       " 'subject.Geography.Geography_of_the_Middle_East.Middle_Eastern_Countries',\n",
       " 'subject.History.British_History.British_History_15001750',\n",
       " 'subject.History.British_History.British_History_1500_and_before_including_Roman_Britain',\n",
       " 'subject.History.British_History.British_History_17501900',\n",
       " 'subject.History.British_History.British_History_Post_1900',\n",
       " 'subject.Science.Biology.Birds',\n",
       " 'subject.Science.Biology.Dinosaurs',\n",
       " 'subject.Science.Biology.Evolution_and_reproduction',\n",
       " 'subject.Science.Biology.General_Biology',\n",
       " 'subject.Science.Biology.Health_and_medicine',\n",
       " 'subject.Science.Biology.Insects_Reptiles_and_Fish',\n",
       " 'subject.Science.Biology.Mammals',\n",
       " 'subject.Science.Biology.Organisms',\n",
       " 'subject.Science.Biology.Plants',\n",
       " 'subject.Science.Chemistry.Chemical_compounds',\n",
       " 'subject.Science.Chemistry.Chemical_elements',\n",
       " 'subject.Science.Chemistry.General_Chemistry',\n",
       " 'subject.Science.Chemistry.Materials_science',\n",
       " 'subject.Science.Physics.Electricity_and_Electronics',\n",
       " 'subject.Science.Physics.General_Physics',\n",
       " 'subject.Science.Physics.Space_Astronomy',\n",
       " 'subject.Science.Physics.Space_transport',\n",
       " 'subject.Science.Physics.The_Planets']"
      ]
     },
     "execution_count": 15,
     "metadata": {},
     "output_type": "execute_result"
    }
   ],
   "source": [
    "main_cat"
   ]
  },
  {
   "cell_type": "code",
   "execution_count": 16,
   "metadata": {},
   "outputs": [],
   "source": [
    "index = [0]*len(main_cat)\n",
    "for i in range(len(main_cat)):\n",
    "    index[i] = 'C'+str(i+1).zfill(4)"
   ]
  },
  {
   "cell_type": "code",
   "execution_count": 17,
   "metadata": {},
   "outputs": [],
   "source": [
    "data = {'id':index ,'category':main_cat}"
   ]
  },
  {
   "cell_type": "code",
   "execution_count": 18,
   "metadata": {},
   "outputs": [],
   "source": [
    "cat_df = pd.DataFrame(data,columns=['id','category'])"
   ]
  },
  {
   "cell_type": "code",
   "execution_count": 19,
   "metadata": {},
   "outputs": [
    {
     "data": {
      "text/html": [
       "<div>\n",
       "<style scoped>\n",
       "    .dataframe tbody tr th:only-of-type {\n",
       "        vertical-align: middle;\n",
       "    }\n",
       "\n",
       "    .dataframe tbody tr th {\n",
       "        vertical-align: top;\n",
       "    }\n",
       "\n",
       "    .dataframe thead th {\n",
       "        text-align: right;\n",
       "    }\n",
       "</style>\n",
       "<table border=\"1\" class=\"dataframe\">\n",
       "  <thead>\n",
       "    <tr style=\"text-align: right;\">\n",
       "      <th></th>\n",
       "      <th>id</th>\n",
       "      <th>category</th>\n",
       "    </tr>\n",
       "  </thead>\n",
       "  <tbody>\n",
       "    <tr>\n",
       "      <th>0</th>\n",
       "      <td>C0001</td>\n",
       "      <td>subject</td>\n",
       "    </tr>\n",
       "    <tr>\n",
       "      <th>1</th>\n",
       "      <td>C0002</td>\n",
       "      <td>subject.Art</td>\n",
       "    </tr>\n",
       "    <tr>\n",
       "      <th>2</th>\n",
       "      <td>C0003</td>\n",
       "      <td>subject.Business_Studies</td>\n",
       "    </tr>\n",
       "    <tr>\n",
       "      <th>3</th>\n",
       "      <td>C0004</td>\n",
       "      <td>subject.Citizenship</td>\n",
       "    </tr>\n",
       "    <tr>\n",
       "      <th>4</th>\n",
       "      <td>C0005</td>\n",
       "      <td>subject.Countries</td>\n",
       "    </tr>\n",
       "    <tr>\n",
       "      <th>...</th>\n",
       "      <td>...</td>\n",
       "      <td>...</td>\n",
       "    </tr>\n",
       "    <tr>\n",
       "      <th>141</th>\n",
       "      <td>C0142</td>\n",
       "      <td>subject.Science.Physics.Electricity_and_Electr...</td>\n",
       "    </tr>\n",
       "    <tr>\n",
       "      <th>142</th>\n",
       "      <td>C0143</td>\n",
       "      <td>subject.Science.Physics.General_Physics</td>\n",
       "    </tr>\n",
       "    <tr>\n",
       "      <th>143</th>\n",
       "      <td>C0144</td>\n",
       "      <td>subject.Science.Physics.Space_Astronomy</td>\n",
       "    </tr>\n",
       "    <tr>\n",
       "      <th>144</th>\n",
       "      <td>C0145</td>\n",
       "      <td>subject.Science.Physics.Space_transport</td>\n",
       "    </tr>\n",
       "    <tr>\n",
       "      <th>145</th>\n",
       "      <td>C0146</td>\n",
       "      <td>subject.Science.Physics.The_Planets</td>\n",
       "    </tr>\n",
       "  </tbody>\n",
       "</table>\n",
       "<p>146 rows × 2 columns</p>\n",
       "</div>"
      ],
      "text/plain": [
       "        id                                           category\n",
       "0    C0001                                            subject\n",
       "1    C0002                                        subject.Art\n",
       "2    C0003                           subject.Business_Studies\n",
       "3    C0004                                subject.Citizenship\n",
       "4    C0005                                  subject.Countries\n",
       "..     ...                                                ...\n",
       "141  C0142  subject.Science.Physics.Electricity_and_Electr...\n",
       "142  C0143            subject.Science.Physics.General_Physics\n",
       "143  C0144            subject.Science.Physics.Space_Astronomy\n",
       "144  C0145            subject.Science.Physics.Space_transport\n",
       "145  C0146                subject.Science.Physics.The_Planets\n",
       "\n",
       "[146 rows x 2 columns]"
      ]
     },
     "execution_count": 19,
     "metadata": {},
     "output_type": "execute_result"
    }
   ],
   "source": [
    "cat_df"
   ]
  },
  {
   "cell_type": "code",
   "execution_count": 20,
   "metadata": {},
   "outputs": [],
   "source": [
    "cat_df.to_csv('category-ids.csv',index=False)"
   ]
  },
  {
   "cell_type": "code",
   "execution_count": 21,
   "metadata": {},
   "outputs": [
    {
     "data": {
      "text/plain": [
       "[[], [], [], []]"
      ]
     },
     "execution_count": 21,
     "metadata": {},
     "output_type": "execute_result"
    }
   ],
   "source": [
    "cat"
   ]
  },
  {
   "cell_type": "code",
   "execution_count": 22,
   "metadata": {},
   "outputs": [
    {
     "data": {
      "text/html": [
       "<div>\n",
       "<style scoped>\n",
       "    .dataframe tbody tr th:only-of-type {\n",
       "        vertical-align: middle;\n",
       "    }\n",
       "\n",
       "    .dataframe tbody tr th {\n",
       "        vertical-align: top;\n",
       "    }\n",
       "\n",
       "    .dataframe thead th {\n",
       "        text-align: right;\n",
       "    }\n",
       "</style>\n",
       "<table border=\"1\" class=\"dataframe\">\n",
       "  <thead>\n",
       "    <tr style=\"text-align: right;\">\n",
       "      <th></th>\n",
       "      <th>id</th>\n",
       "      <th>category</th>\n",
       "    </tr>\n",
       "  </thead>\n",
       "  <tbody>\n",
       "    <tr>\n",
       "      <th>0</th>\n",
       "      <td>C0001</td>\n",
       "      <td>subject</td>\n",
       "    </tr>\n",
       "    <tr>\n",
       "      <th>1</th>\n",
       "      <td>C0002</td>\n",
       "      <td>subject.Art</td>\n",
       "    </tr>\n",
       "    <tr>\n",
       "      <th>2</th>\n",
       "      <td>C0003</td>\n",
       "      <td>subject.Business_Studies</td>\n",
       "    </tr>\n",
       "    <tr>\n",
       "      <th>3</th>\n",
       "      <td>C0004</td>\n",
       "      <td>subject.Citizenship</td>\n",
       "    </tr>\n",
       "    <tr>\n",
       "      <th>4</th>\n",
       "      <td>C0005</td>\n",
       "      <td>subject.Countries</td>\n",
       "    </tr>\n",
       "    <tr>\n",
       "      <th>...</th>\n",
       "      <td>...</td>\n",
       "      <td>...</td>\n",
       "    </tr>\n",
       "    <tr>\n",
       "      <th>141</th>\n",
       "      <td>C0142</td>\n",
       "      <td>subject.Science.Physics.Electricity_and_Electr...</td>\n",
       "    </tr>\n",
       "    <tr>\n",
       "      <th>142</th>\n",
       "      <td>C0143</td>\n",
       "      <td>subject.Science.Physics.General_Physics</td>\n",
       "    </tr>\n",
       "    <tr>\n",
       "      <th>143</th>\n",
       "      <td>C0144</td>\n",
       "      <td>subject.Science.Physics.Space_Astronomy</td>\n",
       "    </tr>\n",
       "    <tr>\n",
       "      <th>144</th>\n",
       "      <td>C0145</td>\n",
       "      <td>subject.Science.Physics.Space_transport</td>\n",
       "    </tr>\n",
       "    <tr>\n",
       "      <th>145</th>\n",
       "      <td>C0146</td>\n",
       "      <td>subject.Science.Physics.The_Planets</td>\n",
       "    </tr>\n",
       "  </tbody>\n",
       "</table>\n",
       "<p>146 rows × 2 columns</p>\n",
       "</div>"
      ],
      "text/plain": [
       "        id                                           category\n",
       "0    C0001                                            subject\n",
       "1    C0002                                        subject.Art\n",
       "2    C0003                           subject.Business_Studies\n",
       "3    C0004                                subject.Citizenship\n",
       "4    C0005                                  subject.Countries\n",
       "..     ...                                                ...\n",
       "141  C0142  subject.Science.Physics.Electricity_and_Electr...\n",
       "142  C0143            subject.Science.Physics.General_Physics\n",
       "143  C0144            subject.Science.Physics.Space_Astronomy\n",
       "144  C0145            subject.Science.Physics.Space_transport\n",
       "145  C0146                subject.Science.Physics.The_Planets\n",
       "\n",
       "[146 rows x 2 columns]"
      ]
     },
     "execution_count": 22,
     "metadata": {},
     "output_type": "execute_result"
    }
   ],
   "source": [
    "cat_df"
   ]
  },
  {
   "cell_type": "code",
   "execution_count": null,
   "metadata": {},
   "outputs": [],
   "source": []
  },
  {
   "cell_type": "code",
   "execution_count": null,
   "metadata": {},
   "outputs": [],
   "source": []
  },
  {
   "cell_type": "code",
   "execution_count": null,
   "metadata": {},
   "outputs": [],
   "source": []
  },
  {
   "cell_type": "code",
   "execution_count": null,
   "metadata": {},
   "outputs": [],
   "source": []
  }
 ],
 "metadata": {
  "kernelspec": {
   "display_name": "Python 3",
   "language": "python",
   "name": "python3"
  },
  "language_info": {
   "codemirror_mode": {
    "name": "ipython",
    "version": 3
   },
   "file_extension": ".py",
   "mimetype": "text/x-python",
   "name": "python",
   "nbconvert_exporter": "python",
   "pygments_lexer": "ipython3",
   "version": "3.8.5"
  }
 },
 "nbformat": 4,
 "nbformat_minor": 2
}
